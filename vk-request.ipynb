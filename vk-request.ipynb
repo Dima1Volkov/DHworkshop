{
 "cells": [
  {
   "cell_type": "code",
   "execution_count": 21,
   "metadata": {},
   "outputs": [],
   "source": [
    "import requests\n",
    "import csv\n",
    "import time\n",
    "token = '1d7a57301d7a57301d7a5730b21d1573f611d7a1d7a5730435a19f259f91b2eb39b804d'\n",
    "version = '5.103'\n",
    "domain = 'story_kudrovo'\n",
    "count = 100\n",
    "offset = 0\n",
    "all_posts = []"
   ]
  },
  {
   "cell_type": "code",
   "execution_count": 22,
   "metadata": {},
   "outputs": [],
   "source": [
    "def get_1000_posts():\n",
    "    token = '1d7a57301d7a57301d7a5730b21d1573f611d7a1d7a5730435a19f259f91b2eb39b804d'\n",
    "    version = '5.103'\n",
    "    domain = 'story_kudrovo'\n",
    "    count = 100\n",
    "    offset = 0\n",
    "    all_posts = []\n",
    "    \n",
    "    while offset < 1000:\n",
    "        response = requests.get('https://api.vk.com/method/wall.get',\n",
    "                           params = {\n",
    "                               'access_token': token,\n",
    "                               'v':version,\n",
    "                               'domain': domain,\n",
    "                               'count':count,\n",
    "                               'offset':offset\n",
    "                           })\n",
    "        data = response.json()['response']['items']\n",
    "        offset+=100\n",
    "        all_posts.extend(data)\n",
    "        time.sleep(0.5)\n",
    "    return all_posts"
   ]
  },
  {
   "cell_type": "code",
   "execution_count": 23,
   "metadata": {},
   "outputs": [],
   "source": [
    "full_data = get_1000_posts()"
   ]
  },
  {
   "cell_type": "code",
   "execution_count": 36,
   "metadata": {},
   "outputs": [],
   "source": [
    "def file_writer(all_posts):\n",
    "    with open('kudrovo.csv', 'w', encoding = 'UTF-8') as file:\n",
    "        a_pen = csv.writer(file)\n",
    "        a_pen.writerow(('likes','body','time'))\n",
    "        for post in all_posts:\n",
    "            a_pen.writerow((post['likes']['count'],post['text'],post['date']))"
   ]
  },
  {
   "cell_type": "code",
   "execution_count": 37,
   "metadata": {},
   "outputs": [],
   "source": [
    "file_writer(full_data)"
   ]
  },
  {
   "cell_type": "code",
   "execution_count": null,
   "metadata": {},
   "outputs": [],
   "source": []
  }
 ],
 "metadata": {
  "kernelspec": {
   "display_name": "Python 3",
   "language": "python",
   "name": "python3"
  },
  "language_info": {
   "codemirror_mode": {
    "name": "ipython",
    "version": 3
   },
   "file_extension": ".py",
   "mimetype": "text/x-python",
   "name": "python",
   "nbconvert_exporter": "python",
   "pygments_lexer": "ipython3",
   "version": "3.6.5"
  }
 },
 "nbformat": 4,
 "nbformat_minor": 4
}
